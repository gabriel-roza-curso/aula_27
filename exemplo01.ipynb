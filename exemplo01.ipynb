{
 "cells": [
  {
   "cell_type": "code",
   "execution_count": 1,
   "metadata": {},
   "outputs": [
    {
     "name": "stdout",
     "output_type": "stream",
     "text": [
      "Baixando os dados...\n",
      "   cisp  mes   ano  mes_ano  aisp  risp           munic    mcirc   regiao  \\\n",
      "0     1    1  2003  2003m01     5     1  Rio de Janeiro  3304557  Capital   \n",
      "1     4    1  2003  2003m01     5     1  Rio de Janeiro  3304557  Capital   \n",
      "2     5    1  2003  2003m01     5     1  Rio de Janeiro  3304557  Capital   \n",
      "3     6    1  2003  2003m01     1     1  Rio de Janeiro  3304557  Capital   \n",
      "4     7    1  2003  2003m01     1     1  Rio de Janeiro  3304557  Capital   \n",
      "\n",
      "   hom_doloso  ...  cmp  cmba  ameaca  pessoas_desaparecidas  \\\n",
      "0           0  ...  NaN   NaN      21                      2   \n",
      "1           3  ...  NaN   NaN      15                      6   \n",
      "2           3  ...  NaN   NaN      47                      2   \n",
      "3           6  ...  NaN   NaN      26                      2   \n",
      "4           4  ...  NaN   NaN      10                      1   \n",
      "\n",
      "   encontro_cadaver  encontro_ossada  pol_militares_mortos_serv  \\\n",
      "0                 0                0                          0   \n",
      "1                 0                1                          0   \n",
      "2                 1                0                          0   \n",
      "3                 1                0                          0   \n",
      "4                 3                0                          0   \n",
      "\n",
      "   pol_civis_mortos_serv  registro_ocorrencias  fase  \n",
      "0                      0                   578     3  \n",
      "1                      0                   441     3  \n",
      "2                      0                   637     3  \n",
      "3                      0                   473     3  \n",
      "4                      0                   147     3  \n",
      "\n",
      "[5 rows x 63 columns]\n"
     ]
    }
   ],
   "source": [
    "# pip install scikit-learn\n",
    "\n",
    "import pandas as pd \n",
    "import numpy as np\n",
    "\n",
    "ENDERECO_DADOS = 'https://www.ispdados.rj.gov.br/Arquivos/BaseDPEvolucaoMensalCisp.csv'\n",
    "\n",
    "#  Obtebdondo os dados\n",
    "try:\n",
    "    print(\"Baixando os dados...\")\n",
    "    df_ocorrencias = pd.read_csv(ENDERECO_DADOS, sep=';', encoding='iso-8859-1')\n",
    "\n",
    "    print(df_ocorrencias.head())\n",
    "except Exception as e:\n",
    "    print(f\"Erro ao baixar os dados: {e}\")\n",
    "    exit()\n"
   ]
  },
  {
   "cell_type": "code",
   "execution_count": 2,
   "metadata": {},
   "outputs": [
    {
     "name": "stdout",
     "output_type": "stream",
     "text": [
      "   cisp  roubo_veiculo  recuperacao_veiculos\n",
      "0     1              5                     5\n",
      "1     4              9                     7\n",
      "2     5             11                    10\n",
      "3     6             27                    77\n",
      "4     7             23                     9\n"
     ]
    }
   ],
   "source": [
    "# Delimitando as Variáveis e totalizando\n",
    "try:\n",
    "    df_veiculos = df_ocorrencias[['cisp', 'roubo_veiculo', 'recuperacao_veiculos' ]]\n",
    "\n",
    "    # totalizando os dados\n",
    "    df_total_veiculos = df_veiculos.groupby('cisp').sum(['roubo_veiculo', 'recuperacao_veiculos']).reset_index()\n",
    "    print(df_veiculos.head())\n",
    "except Exception as e:\n",
    "    print(f\"Erro ao processar os dados: {e}\")\n",
    "    exit()"
   ]
  },
  {
   "cell_type": "code",
   "execution_count": 3,
   "metadata": {},
   "outputs": [
    {
     "name": "stdout",
     "output_type": "stream",
     "text": [
      "Correlação: 0.92\n"
     ]
    }
   ],
   "source": [
    "# Calculando a Correlação\n",
    "try:\n",
    "    df_total_veiculos_cut = (\n",
    "        df_total_veiculos[\n",
    "            df_total_veiculos['roubo_veiculo'] < np.percentile(df_total_veiculos['roubo_veiculo'], 95)\n",
    "        ] \n",
    "    )\n",
    "\n",
    "    df_total_veiculos_cut = (\n",
    "        df_total_veiculos[\n",
    "            df_total_veiculos['recuperacao_veiculos'] < np.percentile(df_total_veiculos['recuperacao_veiculos'], 99)\n",
    "        ] \n",
    "    )\n",
    "\n",
    "    # Arrays\n",
    "    array_roubo_veiculo = np.array(df_total_veiculos_cut['roubo_veiculo'])\n",
    "    array_recuperacao_veiculos = np.array(df_total_veiculos_cut['recuperacao_veiculos'])\n",
    "    # Calculando a correlação\n",
    "    correlacao = np.corrcoef(array_roubo_veiculo, array_recuperacao_veiculos)[0, 1]\n",
    "\n",
    "    print(f\"Correlação: {correlacao:.2f}\")\n",
    "\n",
    "except Exception as e:\n",
    "    print(f\"Erro ao calcular a correlação: {e}\")\n",
    "    exit()"
   ]
  },
  {
   "cell_type": "code",
   "execution_count": 4,
   "metadata": {},
   "outputs": [
    {
     "name": "stdout",
     "output_type": "stream",
     "text": [
      "Iniciando a regressão linear...\n"
     ]
    }
   ],
   "source": [
    "# Aplicando o modelo de regressão linear\n",
    "try:\n",
    "    # pip install scikit-learn\n",
    "    print('Iniciando a regressão linear...')\n",
    "\n",
    "    from sklearn.model_selection import train_test_split\n",
    "    X_train, X_test, y_train, y_test = train_test_split(\n",
    "        array_roubo_veiculo,  # Variável independente\n",
    "        array_recuperacao_veiculos,  # Variável dependente\n",
    "        test_size=0.2,  # 80% treino, 20% teste\n",
    "        random_state=42  # Para reprodutibilidade\n",
    "    )\n",
    "\n",
    "    from sklearn.preprocessing import StandardScaler\n",
    "    scaler = StandardScaler()\n",
    "    X_train = scaler.fit_transform(X_train.reshape(-1, 1))\n",
    "    X_test = scaler.transform(X_test.reshape(-1, 1))\n",
    "\n",
    "    from sklearn.linear_model import LinearRegression\n",
    "    modelo = LinearRegression()\n",
    "    modelo.fit(X_train, y_train)  # Treinando\n",
    "\n",
    "    r2_score = modelo.score(X_test, y_test)  # Avaliando\n",
    "    print(f\"R² score: {r2_score:.2f}\")\n",
    "\n",
    "except Exception as e:\n",
    "    print(f\"Erro ao aplicar a regressão linear: {e}\")\n",
    "    exit()"
   ]
  }
 ],
 "metadata": {
  "kernelspec": {
   "display_name": "Python 3",
   "language": "python",
   "name": "python3"
  },
  "language_info": {
   "codemirror_mode": {
    "name": "ipython",
    "version": 3
   },
   "file_extension": ".py",
   "mimetype": "text/x-python",
   "name": "python",
   "nbconvert_exporter": "python",
   "pygments_lexer": "ipython3",
   "version": "3.11.4"
  },
  "orig_nbformat": 4
 },
 "nbformat": 4,
 "nbformat_minor": 2
}
