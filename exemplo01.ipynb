{
 "cells": [
  {
   "cell_type": "code",
   "execution_count": 1,
   "metadata": {},
   "outputs": [
    {
     "name": "stdout",
     "output_type": "stream",
     "text": [
      "Baixando os dados...\n",
      "   cisp  mes   ano  mes_ano  aisp  risp           munic    mcirc   regiao  \\\n",
      "0     1    1  2003  2003m01     5     1  Rio de Janeiro  3304557  Capital   \n",
      "1     4    1  2003  2003m01     5     1  Rio de Janeiro  3304557  Capital   \n",
      "2     5    1  2003  2003m01     5     1  Rio de Janeiro  3304557  Capital   \n",
      "3     6    1  2003  2003m01     1     1  Rio de Janeiro  3304557  Capital   \n",
      "4     7    1  2003  2003m01     1     1  Rio de Janeiro  3304557  Capital   \n",
      "\n",
      "   hom_doloso  ...  cmp  cmba  ameaca  pessoas_desaparecidas  \\\n",
      "0           0  ...  NaN   NaN      21                      2   \n",
      "1           3  ...  NaN   NaN      15                      6   \n",
      "2           3  ...  NaN   NaN      47                      2   \n",
      "3           6  ...  NaN   NaN      26                      2   \n",
      "4           4  ...  NaN   NaN      10                      1   \n",
      "\n",
      "   encontro_cadaver  encontro_ossada  pol_militares_mortos_serv  \\\n",
      "0                 0                0                          0   \n",
      "1                 0                1                          0   \n",
      "2                 1                0                          0   \n",
      "3                 1                0                          0   \n",
      "4                 3                0                          0   \n",
      "\n",
      "   pol_civis_mortos_serv  registro_ocorrencias  fase  \n",
      "0                      0                   578     3  \n",
      "1                      0                   441     3  \n",
      "2                      0                   637     3  \n",
      "3                      0                   473     3  \n",
      "4                      0                   147     3  \n",
      "\n",
      "[5 rows x 63 columns]\n"
     ]
    }
   ],
   "source": [
    "# pip install scikit-learn\n",
    "\n",
    "import pandas as pd \n",
    "import numpy as np\n",
    "\n",
    "ENDERECO_DADOS = 'https://www.ispdados.rj.gov.br/Arquivos/BaseDPEvolucaoMensalCisp.csv'\n",
    "\n",
    "#  Obtebdondo os dados\n",
    "try:\n",
    "    print(\"Baixando os dados...\")\n",
    "    df_ocorrencias = pd.read_csv(ENDERECO_DADOS, sep=';', encoding='iso-8859-1')\n",
    "\n",
    "    print(df_ocorrencias.head())\n",
    "except Exception as e:\n",
    "    print(f\"Erro ao baixar os dados: {e}\")\n",
    "    exit()\n"
   ]
  },
  {
   "cell_type": "code",
   "execution_count": 2,
   "metadata": {},
   "outputs": [
    {
     "name": "stdout",
     "output_type": "stream",
     "text": [
      "   cisp  roubo_veiculo  recuperacao_veiculos\n",
      "0     1              5                     5\n",
      "1     4              9                     7\n",
      "2     5             11                    10\n",
      "3     6             27                    77\n",
      "4     7             23                     9\n"
     ]
    }
   ],
   "source": [
    "# Delimitando as Variáveis e totalizando\n",
    "try:\n",
    "    df_veiculos = df_ocorrencias[['cisp', 'roubo_veiculo', 'recuperacao_veiculos' ]]\n",
    "\n",
    "    # totalizando os dados\n",
    "    df_total_veiculos = df_veiculos.groupby('cisp').sum(['roubo_veiculo', 'recuperacao_veiculos']).reset_index()\n",
    "    print(df_veiculos.head())\n",
    "except Exception as e:\n",
    "    print(f\"Erro ao processar os dados: {e}\")\n",
    "    exit()"
   ]
  },
  {
   "cell_type": "code",
   "execution_count": 3,
   "metadata": {},
   "outputs": [
    {
     "name": "stdout",
     "output_type": "stream",
     "text": [
      "Correlação: 0.92\n"
     ]
    }
   ],
   "source": [
    "# Calculando a Correlação\n",
    "try:\n",
    "    df_total_veiculos_cut = (\n",
    "        df_total_veiculos[\n",
    "            df_total_veiculos['roubo_veiculo'] < np.percentile(df_total_veiculos['roubo_veiculo'], 95)\n",
    "        ] \n",
    "    )\n",
    "\n",
    "    df_total_veiculos_cut = (\n",
    "        df_total_veiculos[\n",
    "            df_total_veiculos['recuperacao_veiculos'] < np.percentile(df_total_veiculos['recuperacao_veiculos'], 99)\n",
    "        ] \n",
    "    )\n",
    "\n",
    "    # Arrays\n",
    "    array_roubo_veiculo = np.array(df_total_veiculos_cut['roubo_veiculo'])\n",
    "    array_recuperacao_veiculos = np.array(df_total_veiculos_cut['recuperacao_veiculos'])\n",
    "    # Calculando a correlação\n",
    "    correlacao = np.corrcoef(array_roubo_veiculo, array_recuperacao_veiculos)[0, 1]\n",
    "\n",
    "    print(f\"Correlação: {correlacao:.2f}\")\n",
    "\n",
    "except Exception as e:\n",
    "    print(f\"Erro ao calcular a correlação: {e}\")\n",
    "    exit()"
   ]
  },
  {
   "cell_type": "code",
   "execution_count": 5,
   "metadata": {},
   "outputs": [
    {
     "name": "stdout",
     "output_type": "stream",
     "text": [
      "Iniciando a regressão linear...\n",
      "R² score: 0.81\n"
     ]
    }
   ],
   "source": [
    "# Aplicando o modelo de regressão linear\n",
    "try:\n",
    "    # pip install scikit-learn\n",
    "    print('Iniciando a regressão linear...')\n",
    "\n",
    "    from sklearn.model_selection import train_test_split\n",
    "    X_train, X_test, y_train, y_test = train_test_split(\n",
    "        array_roubo_veiculo,  # Variável independente\n",
    "        array_recuperacao_veiculos,  # Variável dependente\n",
    "        test_size=0.2,  # 80% treino, 20% teste\n",
    "        random_state=42  # Para reprodutibilidade\n",
    "    )\n",
    "\n",
    "    from sklearn.preprocessing import StandardScaler\n",
    "    scaler = StandardScaler()\n",
    "    X_train = scaler.fit_transform(X_train.reshape(-1, 1))\n",
    "    X_test = scaler.transform(X_test.reshape(-1, 1))\n",
    "\n",
    "    from sklearn.linear_model import LinearRegression\n",
    "    modelo = LinearRegression()\n",
    "    modelo.fit(X_train, y_train)  # Treinando\n",
    "\n",
    "    r2_score = modelo.score(X_test, y_test)  # Avaliando\n",
    "    print(f\"R² score: {r2_score:.2f}\")\n",
    "\n",
    "except Exception as e:\n",
    "    print(f\"Erro ao aplicar a regressão linear: {e}\")\n",
    "    exit()"
   ]
  },
  {
   "cell_type": "code",
   "execution_count": 6,
   "metadata": {},
   "outputs": [
    {
     "name": "stdout",
     "output_type": "stream",
     "text": [
      "Previsões de recuperação de veículos: [22843.25828419 27962.65770392 37561.53161591]\n"
     ]
    }
   ],
   "source": [
    "#previsão\n",
    "\n",
    "try:\n",
    "    #Array de previsões 35000, 43000 e 58000\n",
    "    array_roubo_veiculo_pred = np.array([35000, 43000, 58000])\n",
    "\n",
    "    #Normalizando os dados de entrada\n",
    "    array_roubo_veiculo_pred_scaled = scaler.transform(array_roubo_veiculo_pred.reshape(-1, 1))\n",
    "\n",
    "    # Fazendo previsões\n",
    "    recup_pred = modelo.predict(array_roubo_veiculo_pred_scaled)\n",
    "    print(\"Previsões de recuperação de veículos:\", recup_pred)\n",
    "\n",
    "except Exception as e:\n",
    "    print(f\"Erro ao fazer previsões: {e}\")\n",
    "    exit()"
   ]
  },
  {
   "cell_type": "code",
   "execution_count": 7,
   "metadata": {},
   "outputs": [
    {
     "name": "stdout",
     "output_type": "stream",
     "text": [
      "Avaliando o modelo de previsões...\n"
     ]
    },
    {
     "ename": "NameError",
     "evalue": "name 'plt' is not defined",
     "output_type": "error",
     "traceback": [
      "\u001b[31m---------------------------------------------------------------------------\u001b[39m",
      "\u001b[31mNameError\u001b[39m                                 Traceback (most recent call last)",
      "\u001b[36mCell\u001b[39m\u001b[36m \u001b[39m\u001b[32mIn[7]\u001b[39m\u001b[32m, line 11\u001b[39m\n\u001b[32m      8\u001b[39m \u001b[38;5;28;01mtry\u001b[39;00m:\n\u001b[32m      9\u001b[39m     \u001b[38;5;28mprint\u001b[39m(\u001b[33m'\u001b[39m\u001b[33mAvaliando o modelo de previsões...\u001b[39m\u001b[33m'\u001b[39m)\n\u001b[32m---> \u001b[39m\u001b[32m11\u001b[39m     \u001b[43mplt\u001b[49m.subplots(\u001b[32m2\u001b[39m, \u001b[32m2\u001b[39m, figsize=(\u001b[32m15\u001b[39m, \u001b[32m5\u001b[39m))\n\u001b[32m     12\u001b[39m     plt.suptitle(\u001b[33m'\u001b[39m\u001b[33mAvaliação do modelo de regressão\u001b[39m\u001b[33m'\u001b[39m)\n\u001b[32m     15\u001b[39m     \u001b[38;5;66;03m#### POSIÇÃO 1: Gráfico de Dispersão entre os arrays\u001b[39;00m\n\u001b[32m     16\u001b[39m     \u001b[38;5;66;03m# pip install seaborn\u001b[39;00m\n",
      "\u001b[31mNameError\u001b[39m: name 'plt' is not defined"
     ]
    }
   ],
   "source": [
    "# AVALIANDO O MODELO\n",
    "\n",
    "# P/ Rodar a Tkinter p/ plotar o painel como no Jupyter\n",
    "import matplotlib.pyplot as plt\n",
    "import seaborn as sns\n",
    "# matplotlib.use('TkAgg')\n",
    "\n",
    "try:\n",
    "    print('Avaliando o modelo de previsões...')\n",
    "\n",
    "    plt.subplots(2, 2, figsize=(15, 5))\n",
    "    plt.suptitle('Avaliação do modelo de regressão')\n",
    "\n",
    "\n",
    "    #### POSIÇÃO 1: Gráfico de Dispersão entre os arrays\n",
    "    # pip install seaborn\n",
    "    plt.subplot(2, 2, 1)\n",
    "\n",
    "    sns.regplot(x=array_roubo_veiculo, y=array_recuperacao_veiculos)\n",
    "    plt.title('Gráfico de dispersão')\n",
    "    plt.xlabel('Roubo de veículos')\n",
    "    plt.ylabel('Recuperação de veículos')\n",
    "\n",
    "    # Posicionar o texto no início do gráfico\n",
    "    plt.text(min(array_roubo_veiculo),\n",
    "             max(array_recuperacao_veiculos),\n",
    "             f'Correlação: {correlacao}',\n",
    "             fontsize=10)\n",
    "\n",
    "\n",
    "    #### POSIÇÃO 2: Gráfico de dispersão entre os dados reais e previsto\n",
    "    plt.subplot(2, 2, 2)\n",
    "\n",
    "    # Testar o modelo preditivo nos dados de X_teste\n",
    "    # Saída na escal original dos dados\n",
    "    y_pred = modelo.predict(X_test)\n",
    "\n",
    "    # Retornar os dados de teste para escala real\n",
    "    X_test = scaler.inverse_transform(X_test)\n",
    "\n",
    "    # Gráfico de dispersão sem a linha de regressão\n",
    "    plt.scatter(X_test, y_test, color='blue', label='Dados reais')\n",
    "    plt.scatter(X_test, y_pred, color = 'red', label='Previsões')\n",
    "\n",
    "    plt.title('Dados reais x previstos')\n",
    "    plt.xlabel('Roubo de veículos')\n",
    "    plt.ylabel('Recuperações de veículos')\n",
    "\n",
    "    plt.legend()\n",
    "\n",
    "\n",
    "    ##### POSIÇÃO 3: Resíduos\n",
    "    plt.subplot(2, 2, 3)\n",
    "\n",
    "    # RESÍDUOS: Diferença entre valores reais e previstos (y_test - y_pred)\n",
    "    # Análise dos resíduos ajuda a verificar, se o modelo está capturando bem\n",
    "    # os padrões dos dados. \n",
    "    # Bons modelos têm resíduos próximos de 0.\n",
    "    # Os dados devem ser distribuídos aleatoriamente.\n",
    "    # Se tiverem um padrão, o modelo não é confiável\n",
    "    residuos = y_test - y_pred\n",
    "\n",
    "    # plotar em gráfico de dispersão\n",
    "    plt.scatter(y_pred, residuos)\n",
    "\n",
    "    # adicioanar uma linha constante no 0\n",
    "    plt.axhline(y=0, color='black', linewidth=2)\n",
    "\n",
    "    plt.title('Resíduos')\n",
    "    plt.xlabel('Previsões')\n",
    "    plt.ylabel('Resíduos')\n",
    "\n",
    "\n",
    "    #### POSIÇÃO 4: Dispersão dos valores simulados\n",
    "    plt.subplot(2, 2, 4)\n",
    "    \n",
    "    plt.scatter(array_roubo_veiculo_pred, recup_pred)\n",
    "\n",
    "    plt.title('Recuperações de veículos simuladas')\n",
    "    plt.xlabel('Roubo veículo simulado')\n",
    "    plt.ylabel('Recuperação de veículo prevista')\n",
    "\n",
    "    plt.tight_layout()\n",
    "    plt.show()\n",
    "\n",
    "except ImportError as e:\n",
    "    print(\"Erro ao avaliar o modelo: \", e)\n",
    "    exit()"
   ]
  }
 ],
 "metadata": {
  "kernelspec": {
   "display_name": "Python 3",
   "language": "python",
   "name": "python3"
  },
  "language_info": {
   "codemirror_mode": {
    "name": "ipython",
    "version": 3
   },
   "file_extension": ".py",
   "mimetype": "text/x-python",
   "name": "python",
   "nbconvert_exporter": "python",
   "pygments_lexer": "ipython3",
   "version": "3.11.4"
  },
  "orig_nbformat": 4
 },
 "nbformat": 4,
 "nbformat_minor": 2
}
